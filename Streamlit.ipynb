{
 "cells": [
  {
   "cell_type": "code",
   "execution_count": 3,
   "id": "02f5f038",
   "metadata": {},
   "outputs": [],
   "source": [
    "# !pip install streamlit\n",
    "# !pip install st-pages"
   ]
  },
  {
   "cell_type": "code",
   "execution_count": 1,
   "id": "1d4a7c4e",
   "metadata": {},
   "outputs": [
    {
     "name": "stdout",
     "output_type": "stream",
     "text": [
      "Writing Home.py\n"
     ]
    }
   ],
   "source": [
    "# %%writefile Home.py\n",
    "\n",
    "# import streamlit as st\n",
    "# import pandas as pd\n",
    "# import joblib\n",
    "\n",
    "# # # Load your trained model\n",
    "# # loaded_model = joblib.load('Model/svm_model_withQues.joblib') \n",
    "\n",
    "\n",
    "# # Initialize session state\n",
    "# # if 'page' not in st.session_state:\n",
    "# #     st.session_state.page = \"Home\"\n",
    "\n",
    "# # Function to create different pages\n",
    "# def home():\n",
    "#     st.title(\"Home Page\")\n",
    "#     st.write(\"Welcome to the Home Page!\")\n",
    "\n",
    "# # def about():\n",
    "# #     st.title(\"About Page\")\n",
    "# #     st.write(\"This is the About Page.\")\n",
    "\n",
    "# # def contact():\n",
    "# #     st.title(\"Contact Page\")\n",
    "# #     st.write(\"You can contact us on this page.\")\n",
    "\n",
    "# # Page selection in the sidebar\n",
    "# # selected_page = st.sidebar.selectbox(\"Select a Page\", [\"Home\", \"About\", \"Contact\"])\n",
    "# # st.sidebar.selectbox(\"Select a Page\", [\"Home\", \"About\", \"Contact\"])\n",
    "\n",
    "# # Update session state when the page changes\n",
    "# # if selected_page != st.session_state.page:\n",
    "# #     st.session_state.page = selected_page\n",
    "\n",
    "# # # Display the selected page\n",
    "# # if st.session_state.page == \"Home\":\n",
    "# #     home()\n",
    "# # elif st.session_state.page == \"About\":\n",
    "# #     about()\n",
    "# # elif st.session_state.page == \"Contact\":\n",
    "# #     contact()\n",
    "    \n",
    "\n",
    "# # def main():\n",
    "# #     st.title(\"My Streamlit App\")\n",
    "# #     st.write(\"Hello, this is a Streamlit app!\")\n",
    "    \n",
    "# if __name__ == '__main__':\n",
    "#     home()"
   ]
  },
  {
   "cell_type": "code",
   "execution_count": 5,
   "id": "e8e44e3a",
   "metadata": {},
   "outputs": [
    {
     "name": "stdout",
     "output_type": "stream",
     "text": [
      "Writing main.py\n"
     ]
    }
   ],
   "source": [
    "# %%writefile main.py\n",
    "# from pathlib import Path\n",
    "# import streamlit as st\n",
    "# from st.pages import Page, add_page_title, show_pages\n",
    "# from pages import Questionaire\n",
    "\n",
    "# show_pages([\n",
    "#     Page('pages/Home.py', 'Home'),\n",
    "#     Page('pages/Questionaire.py', 'Questionaire')\n",
    "# ])"
   ]
  },
  {
   "cell_type": "code",
   "execution_count": 3,
   "id": "cea45a4c",
   "metadata": {},
   "outputs": [
    {
     "name": "stdout",
     "output_type": "stream",
     "text": [
      "Overwriting pages/UserManual.py\n"
     ]
    }
   ],
   "source": [
    "# %%writefile pages/UserManual.py\n",
    "# import streamlit as st\n",
    "\n",
    "# st.title('User Manual')"
   ]
  },
  {
   "cell_type": "code",
   "execution_count": 1,
   "id": "ff1e909e",
   "metadata": {},
   "outputs": [
    {
     "name": "stdout",
     "output_type": "stream",
     "text": [
      "Writing pages/LearningObjects.py\n"
     ]
    }
   ],
   "source": [
    "# %%writefile pages/LearningObjects.py\n",
    "# import streamlit as st\n",
    "\n",
    "# st.title('Learning Objects')"
   ]
  },
  {
   "cell_type": "code",
   "execution_count": 1,
   "id": "0a6a4aaf",
   "metadata": {},
   "outputs": [
    {
     "name": "stdout",
     "output_type": "stream",
     "text": [
      "Writing pages/vak.py\n"
     ]
    }
   ],
   "source": [
    "# %%writefile pages/vak.py\n",
    "# import streamlit as st\n",
    "\n",
    "# st.title('VAK Learning Style')"
   ]
  },
  {
   "cell_type": "code",
   "execution_count": 1,
   "id": "109876e7",
   "metadata": {},
   "outputs": [
    {
     "name": "stdout",
     "output_type": "stream",
     "text": [
      "Writing pages/eda.py\n"
     ]
    }
   ],
   "source": [
    "# %%writefile pages/eda.py\n",
    "# import streamlit as st\n",
    "\n",
    "# st.title('EDA')"
   ]
  },
  {
   "cell_type": "code",
   "execution_count": 2,
   "id": "21cba773",
   "metadata": {},
   "outputs": [],
   "source": [
    "# config_content = \"\"\"\n",
    "# [theme]\n",
    "# primaryColor=\"#ea6a47\"\n",
    "# backgroundColor=\"#f0f0f0\"\n",
    "# font=\"sans-serif\"\n",
    "# base=\"light\"\n",
    "# \"\"\"\n",
    "\n",
    "# # Write the content to a file named config.toml\n",
    "# with open('config.toml', 'w') as file:\n",
    "#     file.write(config_content)"
   ]
  },
  {
   "cell_type": "code",
   "execution_count": null,
   "id": "10fad2a3",
   "metadata": {},
   "outputs": [],
   "source": [
    "# !streamlit run Streamlit.py"
   ]
  },
  {
   "cell_type": "markdown",
   "id": "e4ca46d6",
   "metadata": {},
   "source": [
    "## Check the versions"
   ]
  },
  {
   "cell_type": "code",
   "execution_count": 1,
   "id": "43f7bcd6",
   "metadata": {},
   "outputs": [
    {
     "name": "stdout",
     "output_type": "stream",
     "text": [
      "Streamlit, version 1.28.2\n"
     ]
    }
   ],
   "source": [
    "!streamlit --version"
   ]
  },
  {
   "cell_type": "code",
   "execution_count": 2,
   "id": "3ec5e432",
   "metadata": {},
   "outputs": [
    {
     "name": "stdout",
     "output_type": "stream",
     "text": [
      "10.1.0\n"
     ]
    }
   ],
   "source": [
    "!python -c \"import PIL; print(PIL.__version__)\""
   ]
  },
  {
   "cell_type": "code",
   "execution_count": 3,
   "id": "5d61eeae",
   "metadata": {},
   "outputs": [
    {
     "name": "stdout",
     "output_type": "stream",
     "text": [
      "2.1.1\n"
     ]
    }
   ],
   "source": [
    "!python -c \"import pandas as pd; print(pd.__version__)\""
   ]
  },
  {
   "cell_type": "code",
   "execution_count": 4,
   "id": "4084d038",
   "metadata": {},
   "outputs": [
    {
     "name": "stdout",
     "output_type": "stream",
     "text": [
      "1.3.2\n"
     ]
    }
   ],
   "source": [
    "!python -c \"import joblib; print(joblib.__version__)\""
   ]
  },
  {
   "cell_type": "code",
   "execution_count": 1,
   "id": "0789f65b",
   "metadata": {},
   "outputs": [
    {
     "name": "stdout",
     "output_type": "stream",
     "text": [
      "st_pages_version version: 0.4.5\n"
     ]
    }
   ],
   "source": [
    "import pkg_resources\n",
    "\n",
    "# Attempt to get version using pkg_resources\n",
    "try:\n",
    "    st_pages_version = pkg_resources.get_distribution(\"st-pages\").version\n",
    "except pkg_resources.DistributionNotFound:\n",
    "    st_pages_version = \"Not installed\"\n",
    "\n",
    "# Print versions\n",
    "print(\"st_pages_version version:\", st_pages_version)"
   ]
  },
  {
   "cell_type": "code",
   "execution_count": null,
   "id": "3ee0ef6f",
   "metadata": {},
   "outputs": [],
   "source": []
  },
  {
   "cell_type": "code",
   "execution_count": null,
   "id": "7ce3adb1",
   "metadata": {},
   "outputs": [],
   "source": []
  }
 ],
 "metadata": {
  "kernelspec": {
   "display_name": "Python 3 (ipykernel)",
   "language": "python",
   "name": "python3"
  },
  "language_info": {
   "codemirror_mode": {
    "name": "ipython",
    "version": 3
   },
   "file_extension": ".py",
   "mimetype": "text/x-python",
   "name": "python",
   "nbconvert_exporter": "python",
   "pygments_lexer": "ipython3",
   "version": "3.9.18"
  }
 },
 "nbformat": 4,
 "nbformat_minor": 5
}
